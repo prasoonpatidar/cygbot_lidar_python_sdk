{
 "cells": [
  {
   "cell_type": "code",
   "execution_count": 1,
   "id": "f950fab8",
   "metadata": {
    "ExecuteTime": {
     "end_time": "2023-02-10T22:41:51.641155Z",
     "start_time": "2023-02-10T22:41:49.804387Z"
    }
   },
   "outputs": [],
   "source": [
    "import numpy as np"
   ]
  },
  {
   "cell_type": "code",
   "execution_count": 2,
   "id": "8f094353",
   "metadata": {
    "ExecuteTime": {
     "end_time": "2023-02-10T22:42:01.418553Z",
     "start_time": "2023-02-10T22:42:01.405747Z"
    }
   },
   "outputs": [
    {
     "data": {
      "text/plain": [
       "50"
      ]
     },
     "execution_count": 2,
     "metadata": {},
     "output_type": "execute_result"
    }
   ],
   "source": [
    "a = 20\n",
    "b=30\n",
    "a+b"
   ]
  },
  {
   "cell_type": "code",
   "execution_count": 3,
   "id": "2b3c5625",
   "metadata": {
    "ExecuteTime": {
     "end_time": "2023-02-10T22:43:27.289467Z",
     "start_time": "2023-02-10T22:43:27.284602Z"
    }
   },
   "outputs": [
    {
     "data": {
      "text/plain": [
       "36"
      ]
     },
     "execution_count": 3,
     "metadata": {},
     "output_type": "execute_result"
    }
   ],
   "source": [
    "g = 40\n",
    "r=40\n",
    "r-4"
   ]
  },
  {
   "cell_type": "code",
   "execution_count": null,
   "id": "82147f7c",
   "metadata": {},
   "outputs": [],
   "source": []
  }
 ],
 "metadata": {
  "kernelspec": {
   "display_name": "Python 3 (ipykernel)",
   "language": "python",
   "name": "python3"
  },
  "language_info": {
   "codemirror_mode": {
    "name": "ipython",
    "version": 3
   },
   "file_extension": ".py",
   "mimetype": "text/x-python",
   "name": "python",
   "nbconvert_exporter": "python",
   "pygments_lexer": "ipython3",
   "version": "3.9.13"
  },
  "toc": {
   "base_numbering": 1,
   "nav_menu": {},
   "number_sections": true,
   "sideBar": true,
   "skip_h1_title": false,
   "title_cell": "Table of Contents",
   "title_sidebar": "Contents",
   "toc_cell": false,
   "toc_position": {},
   "toc_section_display": true,
   "toc_window_display": false
  }
 },
 "nbformat": 4,
 "nbformat_minor": 5
}
